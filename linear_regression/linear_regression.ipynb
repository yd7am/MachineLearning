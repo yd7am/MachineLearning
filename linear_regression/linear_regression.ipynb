{
 "cells": [
  {
   "cell_type": "markdown",
   "id": "2b173d77",
   "metadata": {},
   "source": [
    "# 线性回归\n",
    "\n",
    "## 1.梯度下降法\n",
    "$$\n",
    "h_{\\theta}(x) = \\theta^Tx = \\sum_{i=0}^n(\\theta_ix_i)\n",
    "$$\n",
    "**代价函数**\n",
    "$$\n",
    "J(\\theta)=\\frac{1}{2m}\\sum_{j=1}^m(h_{\\theta}(x)^{(j)}-y^{(j)})^2\n",
    "$$\n",
    "**梯度下降求解**\n",
    "$$\n",
    "\\theta_i = \\theta_i - \\alpha\\frac{1}{m}\\sum_{j=1}^m(h_\\theta(x)^{(j)}-y^{(j)})(x_i)^{(j)}\n",
    "$$\n",
    "### 矢量化\n",
    "设i = 0、1，m = 3\n",
    "$$\n",
    "\\begin{bmatrix}\\theta_0\\\\\\theta_1\\end{bmatrix} = \\begin{bmatrix}\\theta_0\\\\\\theta_1\\end{bmatrix}-\\alpha\\frac{1}{m}\\sum_{j=1}^m(b^{(j)})\n",
    "\\begin{bmatrix}x_0\\\\x_1\\end{bmatrix}^{(j)},b^{(j)}=h_\\theta(x)^{(j)}-y^{(j)}\n",
    "$$\n",
    "$$\n",
    "\\begin{bmatrix}\\theta_0\\\\\\theta_1\\end{bmatrix} = \\begin{bmatrix}\\theta_0\\\\\\theta_1\\end{bmatrix}-\\alpha\\frac{1}{m}\\begin{bmatrix}b^{(1)}\\begin{bmatrix}x_0\\\\x_1\\end{bmatrix}^{(1)}+b^{(2)}\\begin{bmatrix}x_0\\\\x_1\\end{bmatrix}^{(2)}+b^{(3)}\\begin{bmatrix}x_0\\\\x_1\\end{bmatrix}^{(3)}\\end{bmatrix},b^{(j)}=h_\\theta(x)^{(j)}-y^{(j)}\n",
    "$$\n",
    "$$\n",
    "\\begin{bmatrix}\\theta_0\\\\\\theta_1\\end{bmatrix} = \\begin{bmatrix}\\theta_0\\\\\\theta_1\\end{bmatrix}-\\alpha\\frac{1}{m}\\begin{bmatrix}\\begin{bmatrix}x_0\\\\x_1\\end{bmatrix}^{(1)}\\begin{bmatrix}x_0\\\\x_1\\end{bmatrix}^{(2)}\\begin{bmatrix}x_0\\\\x_1\\end{bmatrix}^{(3)}\\end{bmatrix}\\begin{bmatrix}b^{(1)}\\\\b^{(2)}\\\\b^{(3)}\\end{bmatrix},b^{(j)}=h_\\theta(x)^{(j)}-y^{(j)}\n",
    "$$\n",
    "其中:\n",
    "$$\n",
    "\\begin{bmatrix}b^{(1)}\\\\b^{(2)}\\\\b^{(3)}\\end{bmatrix}=\\begin{bmatrix}h_\\theta(x)^{(1)}\\\\h_\\theta(x)^{(2)}\\\\h_\\theta(x)^{(3)}\\end{bmatrix}-\\begin{bmatrix}y^{(1)}\\\\y^{(2)}\\\\y^{(3)}\\end{bmatrix}=\\begin{bmatrix}\\begin{bmatrix}x_0&x_1\\end{bmatrix}^{(1)}\\begin{bmatrix}\\theta_0\\\\\\theta_1\\end{bmatrix}\\\\\\begin{bmatrix}x_0&x_1\\end{bmatrix}^{(2)}\\begin{bmatrix}\\theta_0\\\\\\theta_1\\end{bmatrix}\\\\\\begin{bmatrix}x_0&x_1\\end{bmatrix}^{(3)}\\begin{bmatrix}\\theta_0\\\\\\theta_1\\end{bmatrix}\\end{bmatrix}-\\begin{bmatrix}y^{(1)}\\\\y^{(2)}\\\\y^{(3)}\\end{bmatrix}=\\begin{bmatrix}\\begin{bmatrix}x_0&x_1\\end{bmatrix}^{(1)}\\\\\\begin{bmatrix}x_0&x_1\\end{bmatrix}^{(2)}\\\\\\begin{bmatrix}x_0&x_1\\end{bmatrix}^{(3)}\\end{bmatrix}\\begin{bmatrix}\\theta_0\\\\\\theta_1\\end{bmatrix}-\\begin{bmatrix}y^{(1)}\\\\y^{(2)}\\\\y^{(3)}\\end{bmatrix}\n",
    "$$\n",
    "则：\n",
    "$$\n",
    "\\color{red}{\\begin{bmatrix}\\theta_0\\\\\\theta_1\\end{bmatrix}} = \\color{red}{\\begin{bmatrix}\\theta_0\\\\\\theta_1\\end{bmatrix}}-\\alpha\\frac{1}{m}\\color{blue}{\\begin{bmatrix}\\begin{bmatrix}x_0\\\\x_1\\end{bmatrix}^{(1)}\\begin{bmatrix}x_0\\\\x_1\\end{bmatrix}^{(2)}\\begin{bmatrix}x_0\\\\x_1\\end{bmatrix}^{(3)}\\end{bmatrix}}\\begin{bmatrix}\\color{blue}{\\begin{bmatrix}\\begin{bmatrix}x_0&x_1\\end{bmatrix}^{(1)}\\\\\\begin{bmatrix}x_0&x_1\\end{bmatrix}^{(2)}\\\\\\begin{bmatrix}x_0&x_1\\end{bmatrix}^{(3)}\\end{bmatrix}}\\color{red}{\\begin{bmatrix}\\theta_0\\\\\\theta_1\\end{bmatrix}}-\\begin{bmatrix}y^{(1)}\\\\y^{(2)}\\\\y^{(3)}\\end{bmatrix}\\end{bmatrix}\n",
    "$$\n",
    "$$\n",
    "\\pmb{X}=\\begin{bmatrix}\\begin{bmatrix}x_0\\\\x_1\\end{bmatrix}^{(1)}\\begin{bmatrix}x_0\\\\x_1\\end{bmatrix}^{(2)}\\begin{bmatrix}x_0\\\\x_1\\end{bmatrix}^{(3)}\\end{bmatrix}, \\pmb{\\theta}=\\begin{bmatrix}\\theta_0\\\\\\theta_1\\end{bmatrix},\\pmb{y}=\\begin{bmatrix}y^{(1)}\\\\y^{(2)}\\\\y^{(3)}\\end{bmatrix}\n",
    "$$\n",
    "&nbsp;\n",
    "&nbsp;\n",
    "&nbsp;\n",
    "\n",
    "$$\\Large{最终计算公式:\\pmb{\\theta}=\\pmb{\\theta}-\\alpha\\frac{1}{m}\\pmb{X}(\\pmb{X}^T\\pmb{\\theta}-\\pmb{y})}$$\n"
   ]
  },
  {
   "cell_type": "code",
   "execution_count": 2,
   "id": "1413472d",
   "metadata": {},
   "outputs": [
    {
     "data": {
      "image/png": "[encoded data removed]",
      "text/plain": [
       "<Figure size 432x288 with 1 Axes>"
      ]
     },
     "metadata": {
      "needs_background": "light"
     },
     "output_type": "display_data"
    }
   ],
   "source": [
    "import numpy as np\n",
    "import matplotlib.pyplot as plt\n",
    "\n",
    "mean = (1.5, 1.5)\n",
    "cov = [[1, 0.95], [0.95, 1]]\n",
    "XY = np.random.multivariate_normal(mean, cov, 30).T\n",
    "m = XY.shape[1]  # 样本数\n",
    "# 显示数据\n",
    "plt.scatter(XY[0,:], XY[1,:], c='b', s=10, edgecolor='none')\n",
    "plt.xlabel(\"X\", fontsize=14)\n",
    "plt.ylabel(\"Y\", fontsize=14)\n",
    "plt.tick_params(axis='both', labelsize=14)\n",
    "plt.axis([-1, 4, -1, 4])\n",
    "plt.show()"
   ]
  },
  {
   "cell_type": "code",
   "execution_count": 3,
   "id": "83b15481",
   "metadata": {},
   "outputs": [
    {
     "data": {
      "image/png": "[encoded data removed]",
      "text/plain": [
       "<Figure size 432x288 with 1 Axes>"
      ]
     },
     "metadata": {
      "needs_background": "light"
     },
     "output_type": "display_data"
    }
   ],
   "source": [
    "# 回归函数 h=theta^T*X=theta0X0+theta1X1\n",
    "# 要生成 y=kx+b 的回归函数，令其中 X0=1\n",
    "X = np.concatenate((np.ones((1, m)), XY[0, :][np.newaxis, :]), axis=0)\n",
    "Y = XY[1, :][np.newaxis, :].T\n",
    "theta = np.random.random((2, 1)) - 0.5\n",
    "alpha = 0.1  # 学习速率\n",
    "epochs = 200  # 迭代次数\n",
    "for i in range(epochs):\n",
    "    theta = theta - alpha * 1/m * X.dot(np.dot(X.T, theta) - Y)\n",
    "\n",
    "# 回归直线\n",
    "p_x = np.array([-1, 4])\n",
    "p_y = theta[0, 0] + theta[1, 0] * p_x\n",
    "    \n",
    "# 显示数据\n",
    "plt.plot(XY[0,:], XY[1,:], 'x', c='b')\n",
    "plt.plot(p_x, p_y, c='r')\n",
    "\n",
    "plt.xlabel(\"X\", fontsize=14)\n",
    "plt.ylabel(\"Y\", fontsize=14)\n",
    "plt.tick_params(axis='both', labelsize=14)\n",
    "plt.axis([-1, 4, -1, 4])\n",
    "plt.show()"
   ]
  },
  {
   "cell_type": "markdown",
   "id": "cfb75d59",
   "metadata": {},
   "source": [
    "## 2.线性回归解析解\n",
    "$$\n",
    "线性模型: \\pmb{X}^T=\\begin{bmatrix}x_{11}&x_{12}&\\cdots&x_{1d}\\\\x_{21}&x_{22}&\\cdots&x_{2d}\\\\\\vdots&\\vdots&\\vdots&\\vdots\\\\x_{n1}&x_{n2}&\\cdots&x_{nd}\\end{bmatrix}\\space\\space\\space\\space \\pmb{y}=\\begin{bmatrix}y_1\\\\y_2\\\\\\vdots\\\\y_n\\end{bmatrix}\n",
    "$$\n",
    "&nbsp;\n",
    "&nbsp;\n",
    "$$\n",
    "(显然R(X^T)\\not=R(X^T|y), \\pmb{X}^T\\pmb{\\theta}=\\pmb{y}\\space无解)\\space\\space解决问题：\\pmb{X}^T\\pmb{\\theta}\\rightarrow\\pmb{y}\n",
    "$$\n",
    "&nbsp;\n",
    "&nbsp;\n",
    "$$\n",
    "引入代价函数：J=\\lVert\\pmb{X}^T\\pmb{\\theta}-\\pmb{y}\\rVert_2^2,\\space 使\\frac{\\partial{J}}{\\partial\\theta}=0\\space而不是J=0\n",
    "$$\n",
    "&nbsp;\n",
    "$$\n",
    "\\begin{aligned}\n",
    "J&=\\lVert\\pmb{X}^T\\pmb{\\theta}-\\pmb{y}\\rVert_2^2=(\\pmb{X}^T\\pmb{\\theta}-\\pmb{y})^T(\\pmb{X}^T\\pmb{\\theta}-\\pmb{y})=(\\pmb{\\theta}^T\\pmb{X}-\\pmb{y}^T)(\\pmb{X}^T\\pmb{\\theta}-\\pmb{y})\\\\\n",
    "&=\\pmb{\\theta}^T\\pmb{X}\\pmb{X}^T\\pmb{\\theta}-\\pmb{\\theta}^T\\pmb{X}\\pmb{y}-\\pmb{y}^T\\pmb{X}^T\\pmb{\\theta}+\\pmb{y}^T\\pmb{y}\n",
    "\\end{aligned}\n",
    "$$\n",
    "&nbsp;\n",
    "$$其中，对于\\pmb{\\theta}^T\\pmb{X}\\pmb{y}，设X维数为2，样本数为3$$\n",
    "$$\n",
    "\\begin{aligned}\n",
    "\\pmb{\\theta}^T\\pmb{X}\\pmb{y}&=\\begin{bmatrix}\\theta_1,\\theta_2\\end{bmatrix}\\begin{bmatrix}x_{11}&x_{21}&x_{31}\\\\x_{12}&x_{22}&x_{32}\\end{bmatrix}\\begin{bmatrix}y_1\\\\y_2\\\\y_3\\end{bmatrix}\\\\\n",
    "&=\\begin{bmatrix}\\theta_1x_{11}+\\theta_2x_{12},\\theta_1x_{21}+\\theta_2x_{22},\\theta_1x_{31}+\\theta_2x_{32}\\end{bmatrix}\\begin{bmatrix}y_1\\\\y_2\\\\y_3\\end{bmatrix}\\\\\n",
    "&=(\\theta_1x_{11}+\\theta_2x_{12})y_1+(\\theta_1x_{21}+\\theta_2x_{22})y_2+(\\theta_1x_{31}+\\theta_2x_{32})y_3\n",
    "\\end{aligned}\n",
    "$$\n",
    "\n",
    "$$\n",
    "\\frac{\\partial{\\pmb{\\theta}^T\\pmb{X}\\pmb{y}}}{\\partial\\theta}=\\begin{bmatrix}\\frac{\\partial{\\theta^TXy}}{\\partial\\theta_1}\\\\\\frac{\\partial{\\theta^TXy}}{\\partial\\theta_2}\\end{bmatrix}=\\begin{bmatrix}x_{11}y_1+x_{21}y_2+x_{31}y_3\\\\x_{12}y_1+x_{22}y_2+x_{32}y_3\\end{bmatrix}=\\begin{bmatrix}x_{11}&x_{21}&x_{31}\\\\x_{12}&x_{22}&x_{32}\\end{bmatrix}\\begin{bmatrix}y_1\\\\y_2\\\\y_3\\end{bmatrix}=\\pmb{X}\\pmb{y}\n",
    "$$\n",
    "\n",
    "$$\n",
    "求导：\\frac{\\partial{J}}{\\partial\\theta}=\\frac{\\partial{(\\pmb{\\theta}^T\\pmb{X}\\pmb{X}^T\\pmb{\\theta}-\\pmb{\\theta}^T\\pmb{X}\\pmb{y}-\\pmb{y}^T\\pmb{X}^T\\pmb{\\theta}+\\pmb{y}^T\\pmb{y})}}{\\partial\\theta}=2\\pmb{X}\\pmb{X}^T\\pmb{\\theta}-2\\pmb{X}\\pmb{y}=0\n",
    "$$\n",
    "$$\n",
    "\\pmb{X}\\pmb{X}^T\\pmb{\\theta}-\\pmb{X}\\pmb{y}=0\\Rightarrow\\pmb{\\theta}=(\\pmb{X}\\pmb{X}^T)^{-1}\\pmb{X}\\pmb{y}(如果\\pmb{X}\\pmb{X}^T可逆)\n",
    "$$\n",
    "\n",
    "$$\n",
    "为使\\pmb{X}\\pmb{X}^T可逆，由于\\pmb{S}=\\pmb{X}\\pmb{X}^T为d\\times d矩阵，为使\\pmb{S}可逆，\\pmb{S}必须满秩，即R(\\pmb{X}\\pmb{X}^T)=d，因此样本矩阵X须满足n>d\n",
    "$$"
   ]
  },
  {
   "cell_type": "code",
   "execution_count": 5,
   "id": "ea38dbc3",
   "metadata": {},
   "outputs": [
    {
     "data": {
      "image/png": "[encoded data removed]",
      "text/plain": [
       "<Figure size 432x288 with 1 Axes>"
      ]
     },
     "metadata": {
      "needs_background": "light"
     },
     "output_type": "display_data"
    }
   ],
   "source": [
    "theta_2 = np.linalg.inv(X.dot(X.T)).dot(X).dot(Y)\n",
    "\n",
    "# 回归直线\n",
    "p_x2 = np.array([-1, 4])\n",
    "p_y2 = theta_2[0, 0] + theta_2[1, 0] * p_x2\n",
    "\n",
    "# 显示数据\n",
    "plt.plot(XY[0,:], XY[1,:], 'x', c='b')\n",
    "plt.plot(p_x2, p_y2, c='r')\n",
    "\n",
    "plt.xlabel(\"X\", fontsize=14)\n",
    "plt.ylabel(\"Y\", fontsize=14)\n",
    "plt.tick_params(axis='both', labelsize=14)\n",
    "plt.axis([-1, 4, -1, 4])\n",
    "plt.show()"
   ]
  },
  {
   "cell_type": "code",
   "execution_count": null,
   "id": "dade001d",
   "metadata": {},
   "outputs": [],
   "source": []
  }
 ],
 "metadata": {
  "kernelspec": {
   "display_name": "Python 3 (ipykernel)",
   "language": "python",
   "name": "python3"
  },
  "language_info": {
   "codemirror_mode": {
    "name": "ipython",
    "version": 3
   },
   "file_extension": ".py",
   "mimetype": "text/x-python",
   "name": "python",
   "nbconvert_exporter": "python",
   "pygments_lexer": "ipython3",
   "version": "3.8.13"
  }
 },
 "nbformat": 4,
 "nbformat_minor": 5
}
