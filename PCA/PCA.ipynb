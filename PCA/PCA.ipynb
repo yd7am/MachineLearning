{
 "cells": [
  {
   "cell_type": "markdown",
   "id": "4ecab1b7",
   "metadata": {},
   "source": [
    "# PCA(主成分分析)\n",
    "\n",
    "主成分分析（PCA）principal components analysis：将原始高维数据向 -----方差变化最大-----的若干个方向进行投影得到低维表示。\n",
    "\n",
    "## 投影准则：\n",
    "**朝着数据最大方差的方向进行投影，$\\space\\vec u\\space$的模为1，$(\\vec x_i-\\tilde x)^T\\vec u\\space$表示$(\\vec x_i-\\tilde x)$在$\\space\\vec u\\space$方向上的投影。**\n",
    "$$\n",
    "\\begin{align}\n",
    "f(\\vec u)&=max\\frac{1}{N-1}\\sum_{i=1}^N((\\vec x_i-\\tilde x)^T\\vec u)^2\\\\\n",
    "\\end{align}\\\\\n",
    "$$\n",
    "$$\n",
    "简化为：max\\sum_{i=1}^N((\\vec x_i-\\tilde x)^T\\vec u)^2\\space其中，(\\vec x_i-\\tilde x)^T\\vec u为一标量\\\\\n",
    "$$\n",
    "\n",
    "\n",
    "$$\n",
    "\\begin{align}\n",
    "故上式&=max\\sum_{i=1}^N((\\vec x_i-\\tilde x)^T\\vec u)^T((\\vec x_i-\\tilde x)^T\\vec u)\\\\\n",
    "&=max\\space\\vec u^T\\sum_{i=1}^{N}((\\vec x_i-\\tilde x)(\\vec x_i-\\tilde x)^T)\\vec u\\\\\n",
    "&=max\\space\\vec u^T[\\vec x_1-\\tilde x,\\vec x_2-\\tilde x,\\cdots,\\vec x_N-\\tilde x]\n",
    "\\begin{bmatrix}\n",
    "(\\vec x_1-\\tilde x)^T\\\\(\\vec x_2-\\tilde x)^T\\\\\\vdots\\\\(\\vec x_N-\\tilde x)^T\n",
    "\\end{bmatrix}\\vec u\\\\\n",
    "&=max\\space \\vec u^T((X-\\tilde X)(X-\\tilde X)^T)\\vec u\n",
    "\\end{align}\\\\\n",
    "$$\n",
    "$其中，X为样本矩阵，A=\\frac{1}{N-1}(X-\\tilde X)(X-\\tilde X)^T为协方差矩阵$\n",
    "## 求数据最大方差\n",
    "**优化问题：**$f(\\vec u)=max\\space\\vec u^TA\\vec u,\\space s.t.\\vec u^T\\vec u=1$\n",
    "\n",
    "有约束条件的求导，利用拉格朗日乘数法：构建$L(\\vec u)=\\vec u^TA\\vec u-\\lambda(\\vec u^T\\vec u-1)$\n",
    "\n",
    "**引入$\\quad \\vec x^TA\\vec x\\quad 对向量 \\space \\vec x\\space$的导数**：\n",
    "$$\n",
    "设二维向量\\vec x=\\begin{bmatrix}x_1\\\\x_2\\end{bmatrix}\\quad 二维矩阵A=\\begin{bmatrix}a_{11}&a_{12}\\\\a_{21}&a_{22}\\end{bmatrix}\\quad J=\\vec x^TA\\vec x\\\\求\\frac{\\partial J}{\\partial \\vec x}=\n",
    "\\begin{bmatrix}\\frac{\\partial J}{\\partial x_1}\\\\\n",
    "\\frac{\\partial J}{\\partial x_2}\\end{bmatrix}\\\\\n",
    "$$\n",
    "$$\n",
    "\\begin{align}\n",
    "J=\\vec x^TA\\vec x&=\\begin{bmatrix}x_1,x_2\\end{bmatrix}\\begin{bmatrix}a_{11}&a_{12}\\\\a_{21}&a_{22}\\end{bmatrix}\\begin{bmatrix}x_1\\\\x_2\\end{bmatrix}\\\\\n",
    "&=\\begin{bmatrix}a_{11}x_1+a_{21}x_2,a_{12}x_1+a_{22}x_2\\end{bmatrix}\\begin{bmatrix}x_1\\\\x_2\\end{bmatrix}\\\\\n",
    "&=a_{11}x_1^2+a_{21}x_2x_1+a_{12}x_1x_2+a_{22}x_2^2\n",
    "\\end{align}\\\\\n",
    "$$\n",
    "\n",
    "$$\n",
    "\\frac{\\partial J}{\\partial x_1}=2a_{11}x_1+a_{21}x_2+a_{12}x_2\\quad \\frac{\\partial J}{\\partial x_2}=a_{21}x_1+a_{12}x_1+2a_{22}x_2\\\\\n",
    "$$\n",
    "\n",
    "$$\n",
    "\\begin{align}\n",
    "\\frac{\\partial J}{\\partial \\vec x}=\\begin{bmatrix}\\frac{\\partial J}{\\partial x_1}\\\\\n",
    "\\frac{\\partial J}{\\partial x_2}\\end{bmatrix}&=\\begin{bmatrix}2a_{11}x_1+a_{21}x_2+a_{12}x_2\\\\a_{21}x_1+a_{12}x_1+2a_{22}x_2\\end{bmatrix}\\\\\n",
    "&=\\begin{bmatrix}\\color{red}{a_{11}x_1+a_{21}x_2}+\\color{blue}{a_{11}x_1+a_{12}x_2}\\\\\\color{red}{a_{12}x_1+a_{22}x_2}+\\color{blue}{a_{21}x_1+a_{22}x_2}\\end{bmatrix}\\\\\n",
    "&=\\color{red}{\\begin{bmatrix}a_{11}&a_{21}\\\\a_{12}&a_{22}\\end{bmatrix}\\begin{bmatrix}x_1\\\\x_2\\end{bmatrix}}+\\color{blue}{\\begin{bmatrix}a_{11}&a_{12}\\\\a_{21}&a_{22}\\end{bmatrix}\\begin{bmatrix}x_1\\\\x_2\\end{bmatrix}}\\\\\n",
    "\\color{green}{\\frac{\\partial (\\vec x^TA\\vec x)}{\\partial \\vec x}}&=A^T\\vec x+A\\vec x=(A^T+A)\\vec x\n",
    "\\end{align}\n",
    "$$\n",
    "\n",
    "**对$L(\\vec u)=\\vec u^TA\\vec u -\\lambda(\\vec u^T\\vec u-1)$求导：**\n",
    "由于样本矩阵X的协方差矩阵A为对称矩阵\n",
    "$$\n",
    "由上式得：\\frac{\\partial \\vec (u^TA\\vec u)}{\\partial \\vec u}=(A^T+A)\\vec u=2A\\vec u\n",
    "$$\n",
    "$$\n",
    "当A为单位矩阵时，\\vec u^TA\\vec u=\\vec u^T\\vec u,\\quad 故\\frac{\\partial \\vec (u^T\\vec u)}{\\partial \\vec u}=2\\vec u\n",
    "$$\n",
    "$$\n",
    "综上，\\quad \\frac{\\partial L(\\vec u)}{\\partial \\vec u}=\\color{red}2A\\vec u-2\\lambda\\vec u\n",
    "$$\n",
    "$$\n",
    "令\\quad \\frac{\\partial L(\\vec u)}{\\partial \\vec u}=2A\\vec u-2\\lambda\\vec u=\\vec 0\n",
    "$$\n",
    "$$\n",
    "\\Downarrow\n",
    "$$\n",
    "$$\n",
    "\\color{red}A\\vec u=\\lambda \\vec u\n",
    "$$\n",
    "**带入代价函数$f(\\vec u)=max\\space\\vec u^TA\\vec u\\space$得到：**\n",
    "$$\n",
    "\\vec u^TA\\vec u=\\vec u^T\\lambda\\vec u=\\lambda\n",
    "$$\n",
    "**综上，当$\\vec u为协方差矩阵A的特征向量时，样本向量在\\vec u上投影的方差取得最大值，其值为相应特征向量的特征值\\lambda。$**"
   ]
  },
  {
   "cell_type": "code",
   "execution_count": 129,
   "id": "fc3ce87f",
   "metadata": {},
   "outputs": [
    {
     "data": {
      "image/png": "[encoded data removed]",
      "text/plain": [
       "<Figure size 432x288 with 1 Axes>"
      ]
     },
     "metadata": {
      "needs_background": "light"
     },
     "output_type": "display_data"
    }
   ],
   "source": [
    "import numpy as np\n",
    "import matplotlib.pyplot as plt\n",
    "\n",
    "mean = [1.5, 1.5]\n",
    "cov = [[1, 0.95],[0.95, 1]]\n",
    "data2D = np.random.multivariate_normal(mean, cov, 15).T\n",
    "\n",
    "plt.plot(data2D[0, :], data2D[1, :], 'x')\n",
    "plt.axis([-2, 5, -2, 5])\n",
    "plt.show()"
   ]
  },
  {
   "cell_type": "code",
   "execution_count": 130,
   "id": "5d2890ab",
   "metadata": {},
   "outputs": [],
   "source": [
    "data_mean = np.mean(data2D, axis=1)[:, np.newaxis]\n",
    "X = data2D - data_mean  # 去均值\n",
    "N, M = data2D.shape  # 样本维数和样本数\n",
    "\n",
    "# 协方差矩阵\n",
    "A = 1/M * np.dot(X, X.T)\n",
    "# 特征值&特征向量\n",
    "eigen_value, feature_vector = np.linalg.eig(A)  # 特征向量为列向量"
   ]
  },
  {
   "cell_type": "code",
   "execution_count": 131,
   "id": "8265d03d",
   "metadata": {},
   "outputs": [
    {
     "data": {
      "image/png": "[encoded data removed]",
      "text/plain": [
       "<Figure size 432x288 with 1 Axes>"
      ]
     },
     "metadata": {
      "needs_background": "light"
     },
     "output_type": "display_data"
    }
   ],
   "source": [
    "v1_x = [data_mean[0][0], data_mean[0][0] + feature_vector[0][0]*3]\n",
    "v1_y = [data_mean[1][0], data_mean[1][0] + feature_vector[1][0]*3]\n",
    "\n",
    "v2_x = [data_mean[0][0], data_mean[0][0] + feature_vector[0][1]*3]\n",
    "v2_y = [data_mean[1][0], data_mean[1][0] + feature_vector[1][1]*3]\n",
    "\n",
    "plt.plot(data2D[0, :], data2D[1, :], 'x')\n",
    "plt.plot(v1_x, v1_y, 'r')\n",
    "plt.plot(v2_x, v2_y, 'g')\n",
    "plt.axis([-3, 6, -3, 6])\n",
    "plt.axis('square')\n",
    "plt.show()"
   ]
  },
  {
   "cell_type": "code",
   "execution_count": 81,
   "id": "8a94beaa",
   "metadata": {},
   "outputs": [
    {
     "data": {
      "text/plain": [
       "0.0"
      ]
     },
     "execution_count": 81,
     "metadata": {},
     "output_type": "execute_result"
    }
   ],
   "source": [
    "feature_vector[:,0].dot(feature_vector[:,1])  # 特征向量正交"
   ]
  },
  {
   "cell_type": "code",
   "execution_count": 138,
   "id": "b7d7f537",
   "metadata": {},
   "outputs": [
    {
     "data": {
      "text/plain": [
       "(-0.5912272999420336, 4.075676675433149, -0.6557222089524631, 4.01118176642272)"
      ]
     },
     "execution_count": 138,
     "metadata": {},
     "output_type": "execute_result"
    },
    {
     "data": {
      "image/png": "[encoded data removed]",
      "text/plain": [
       "<Figure size 432x288 with 1 Axes>"
      ]
     },
     "metadata": {
      "needs_background": "light"
     },
     "output_type": "display_data"
    }
   ],
   "source": [
    "sorted_index = np.argsort(eigen_value)[::-1]  # 降序\n",
    "sorted_feature_vector = np.zeros(feature_vector.shape)\n",
    "for column in range(feature_vector.shape[1]):\n",
    "    sorted_feature_vector[:, column] = feature_vector[:, sorted_index[column]]\n",
    "U = sorted_feature_vector[:, 0].T  # 降维矩阵\n",
    "X_Reduce = U.dot(X)\n",
    "cos_value = sorted_feature_vector[0][0]/np.linalg.norm(sorted_feature_vector[:, 0])\n",
    "sin_value = sorted_feature_vector[1][0]/np.linalg.norm(sorted_feature_vector[:, 0])\n",
    "\n",
    "# 绘图\n",
    "v1_x = [data_mean[0][0], data_mean[0][0] + feature_vector[0][0]*3]\n",
    "v1_y = [data_mean[1][0], data_mean[1][0] + feature_vector[1][0]*3]\n",
    "\n",
    "v2_x = [data_mean[0][0], data_mean[0][0] + feature_vector[0][1]*3]\n",
    "v2_y = [data_mean[1][0], data_mean[1][0] + feature_vector[1][1]*3]\n",
    "\n",
    "plt.plot(data2D[0, :], data2D[1, :], 'x')\n",
    "plt.plot(v1_x, v1_y, 'r')\n",
    "plt.plot(v2_x, v2_y, 'g')\n",
    "\n",
    "for m in range(M):\n",
    "    plt.plot(data_mean[0][0] + X_Reduce*cos_value,\n",
    "             data_mean[1][0] + X_Reduce*sin_value, '.')\n",
    "\n",
    "plt.axis([-3, 6, -3, 6])\n",
    "plt.axis('square')"
   ]
  },
  {
   "cell_type": "markdown",
   "id": "918c10c2",
   "metadata": {},
   "source": [
    "# 鸢尾花数据集"
   ]
  },
  {
   "cell_type": "code",
   "execution_count": 57,
   "id": "b55dc1a9",
   "metadata": {},
   "outputs": [
    {
     "name": "stdout",
     "output_type": "stream",
     "text": [
      "<class 'pandas.core.frame.DataFrame'>\n",
      "RangeIndex: 150 entries, 0 to 149\n",
      "Data columns (total 6 columns):\n",
      " #   Column        Non-Null Count  Dtype  \n",
      "---  ------        --------------  -----  \n",
      " 0   Unnamed: 0    150 non-null    int64  \n",
      " 1   Sepal.Length  150 non-null    float64\n",
      " 2   Sepal.Width   150 non-null    float64\n",
      " 3   Petal.Length  150 non-null    float64\n",
      " 4   Petal.Width   150 non-null    float64\n",
      " 5   Species       150 non-null    object \n",
      "dtypes: float64(4), int64(1), object(1)\n",
      "memory usage: 7.2+ KB\n",
      "None\n"
     ]
    }
   ],
   "source": [
    "import pandas as pd\n",
    "import numpy as np\n",
    "import matplotlib.pyplot as plt\n",
    "\n",
    "iris = pd.read_csv(open('iris.csv'))\n",
    "M = iris.shape[0]  # 样本个数\n",
    "print(iris.info())\n",
    "iris_species = list(iris['Species'].unique())\n",
    "iris_data_label = np.empty((M, 5))  # 存储iris数据及标签\n",
    "iris_data_label[:, 0:4] = iris.iloc[:, 1:5].values  # 存储4维数据\n",
    "for i in range(M):\n",
    "    for label in iris_species:\n",
    "        if iris.iloc[i][5] == label:\n",
    "            iris_data_label[i][4] = iris_species.index(label)  # 存储标签"
   ]
  },
  {
   "cell_type": "code",
   "execution_count": 72,
   "id": "883700bb",
   "metadata": {},
   "outputs": [
    {
     "data": {
      "image/png": "[encoded data removed]",
      "text/plain": [
       "<Figure size 432x288 with 1 Axes>"
      ]
     },
     "metadata": {
      "needs_background": "light"
     },
     "output_type": "display_data"
    }
   ],
   "source": [
    "X = iris_data_label[:, 0:4].copy().T  # 样本矩阵\n",
    "X = X - np.mean(X, axis=1)[:, np.newaxis]  # 去均值\n",
    "# 协方差矩阵\n",
    "A = 1/M * np.dot(X, X.T)\n",
    "# 特征值&特征向量\n",
    "eigen_value, feature_vector = np.linalg.eig(A)  # 特征向量为列向量\n",
    "sorted_index = np.argsort(eigen_value)[::-1]  # 降序\n",
    "sorted_feature_vector = np.zeros(feature_vector.shape)\n",
    "for column in range(feature_vector.shape[1]):\n",
    "    sorted_feature_vector[:, column] = feature_vector[:, sorted_index[column]]\n",
    "U = sorted_feature_vector[:, 0:2].T  # 降维矩阵\n",
    "X_Reduce = U.dot(X)\n",
    "X_Reduce_label = np.concatenate((X_Reduce,\n",
    "                                 iris_data_label[:, 4].T[np.newaxis, :]), axis=0)\n",
    "# 绘图\n",
    "colors = ['r', 'g', 'b']\n",
    "for i in range(M):\n",
    "    for j in range(3):\n",
    "        if X_Reduce_label[2][i] == j:\n",
    "            plt.plot(X_Reduce_label[0][i], X_Reduce_label[1][i],\n",
    "                     'x', c=colors[j])\n",
    "\n",
    "plt.show()"
   ]
  },
  {
   "cell_type": "code",
   "execution_count": null,
   "id": "c2e11d72",
   "metadata": {},
   "outputs": [],
   "source": []
  }
 ],
 "metadata": {
  "kernelspec": {
   "display_name": "Python 3 (ipykernel)",
   "language": "python",
   "name": "python3"
  },
  "language_info": {
   "codemirror_mode": {
    "name": "ipython",
    "version": 3
   },
   "file_extension": ".py",
   "mimetype": "text/x-python",
   "name": "python",
   "nbconvert_exporter": "python",
   "pygments_lexer": "ipython3",
   "version": "3.8.13"
  }
 },
 "nbformat": 4,
 "nbformat_minor": 5
}
